{
 "cells": [
  {
   "cell_type": "code",
   "execution_count": 2,
   "metadata": {},
   "outputs": [],
   "source": [
    "import requests\n",
    "import pandas as pd\n",
    "import numpy as np\n",
    "from sklearn.model_selection import train_test_split\n",
    "from sklearn.preprocessing import LabelEncoder #transforms categorical data into numerical format\n",
    "from sklearn.ensemble import RandomForestClassifier,RandomForestRegressor\n",
    "from sklearn.metrics import mean_squared_error\n",
    "from datetime import datetime,timedelta"
   ]
  },
  {
   "cell_type": "code",
   "execution_count": 3,
   "metadata": {},
   "outputs": [],
   "source": [
    "API_KEY='973ed7749164da8ee67a51bcd8b4728b'\n",
    "BASE_URL='https://api.openweathermap.org/data/2.5/'"
   ]
  },
  {
   "cell_type": "code",
   "execution_count": 4,
   "metadata": {},
   "outputs": [],
   "source": [
    "def get_current_weather(city):\n",
    "    url=f\"{BASE_URL}weather?q={city}&appid={API_KEY}&units=metric\" \n",
    "    response=requests.get(url)\n",
    "    data=response.json()\n",
    "    return {\n",
    "        'city':data['name'],\n",
    "        'current_temp':round(data['main']['temp']),\n",
    "        'feels_like':round(data['main']['feels_like']),\n",
    "        'temp_min':round(data['main']['temp_min']),\n",
    "        'temp_max':round(data['main']['temp_max']),\n",
    "        'humidity':round(data['main']['humidity']),\n",
    "        'description':data['weather'][0]['description'],\n",
    "        'country':data['sys']['country'],\n",
    "    }"
   ]
  },
  {
   "cell_type": "code",
   "execution_count": 5,
   "metadata": {},
   "outputs": [],
   "source": [
    "def read_historical_data(filename):\n",
    "    df=pd.read_csv(filename)\n",
    "    df=df.dropna()\n",
    "    df=df.drop_duplicates()\n",
    "    return df"
   ]
  },
  {
   "cell_type": "code",
   "execution_count": 7,
   "metadata": {},
   "outputs": [],
   "source": [
    "def prepare_data(data):\n",
    "    le=LabelEncoder()\n",
    "    data['WindGustDir']=le.fit_transform(data['WindGustDir']) #converts catogorical windgustdir data into numerica values\n",
    "    data['RainTomorrow']=le.fit_transform(data['RainTomorrow'])\n",
    "    X=data[['MinTemp','MaxTemp','WindGustDir','WindGustSpeed','Humidity','Pressure','Temp']]\n",
    "    y=data['RainTomorrow']\n",
    "    return X,y,le"
   ]
  },
  {
   "cell_type": "code",
   "execution_count": null,
   "metadata": {},
   "outputs": [],
   "source": [
    "def train_rain_model(X,y):\n",
    "    X_train,X_test,y_train,y_test=train_test_split(X,y,test_size=0.2,random_state=42) #random_state=42 fixes the randomness, so every time you run the code, you get the same split.\n",
    "    model=RandomForestClassifier(n_estimators=100,random_state=42)\n",
    "    model.fit(X_train,y_train)\n",
    "    y_pred=model.predict(X_test)\n",
    "    print(\"Mean squared error for test set\")\n",
    "    print(mean_squared_error(y_test,y_pred))\n",
    "    return model"
   ]
  }
 ],
 "metadata": {
  "kernelspec": {
   "display_name": "Python 3",
   "language": "python",
   "name": "python3"
  },
  "language_info": {
   "codemirror_mode": {
    "name": "ipython",
    "version": 3
   },
   "file_extension": ".py",
   "mimetype": "text/x-python",
   "name": "python",
   "nbconvert_exporter": "python",
   "pygments_lexer": "ipython3",
   "version": "3.11.3"
  }
 },
 "nbformat": 4,
 "nbformat_minor": 2
}
